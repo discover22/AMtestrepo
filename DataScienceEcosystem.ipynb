{
 "cells": [
  {
   "cell_type": "markdown",
   "id": "d585119e",
   "metadata": {},
   "source": [
    "# Data Science Tools and Ecosystem"
   ]
  },
  {
   "cell_type": "markdown",
   "id": "a9f829ec",
   "metadata": {},
   "source": [
    "In this notebook, Data Science Tools and Ecosystem are summarized."
   ]
  },
  {
   "cell_type": "markdown",
   "id": "a41fd456",
   "metadata": {},
   "source": [
    "**Objectives:**\n",
    "\n",
    "* Getting skills about using Jupyter Notebook tools using Markdown\n",
    "* List a popular languages for Data Science.\n",
    "* List some commonly used library used by Data Scientists.\n",
    "* List some Data Science Tools.\n",
    "* Example of evaluating arithmetic expression in Python.\n"
   ]
  },
  {
   "cell_type": "markdown",
   "id": "41660a87",
   "metadata": {},
   "source": [
    "Some of thw popular languages that Data Scientists use are:\n",
    "\n",
    "1. Python\n",
    "1. R\n",
    "1. SQL\n",
    "1. Javas\n",
    "1. Julia"
   ]
  },
  {
   "cell_type": "markdown",
   "id": "50aa089d",
   "metadata": {},
   "source": [
    "Some of the coomonly used libraries used by Data Scientists include:\n",
    "\n",
    "1. Pandas\n",
    "1. Matplotlib\n",
    "1. Scikit-Learn\n",
    "1. TensorFlow\n",
    "1. Apache spark\n",
    "1. Scala\n",
    "1. ggplot2\n"
   ]
  },
  {
   "cell_type": "markdown",
   "id": "7bbca552",
   "metadata": {},
   "source": [
    "| Data Science Tools |\n",
    "|:-------------------|\n",
    "| Jupyter Notebook   |\n",
    "| Vs Code            |\n",
    "| R                  |"
   ]
  },
  {
   "cell_type": "markdown",
   "id": "64d4d2c6",
   "metadata": {},
   "source": [
    "### Below are few examples of evaluating arithmetic expressions in Python."
   ]
  },
  {
   "cell_type": "code",
   "execution_count": 2,
   "id": "11b3b1c5",
   "metadata": {},
   "outputs": [
    {
     "data": {
      "text/plain": [
       "17"
      ]
     },
     "execution_count": 2,
     "metadata": {},
     "output_type": "execute_result"
    }
   ],
   "source": [
    "# this is a simple arithmetic expression to multiply then add integer\n",
    "(3*4)+5"
   ]
  },
  {
   "cell_type": "code",
   "execution_count": 3,
   "id": "e9d5aeec",
   "metadata": {},
   "outputs": [
    {
     "data": {
      "text/plain": [
       "3.3333333333333335"
      ]
     },
     "execution_count": 3,
     "metadata": {},
     "output_type": "execute_result"
    }
   ],
   "source": [
    "# This will convert 200 minutes to hours by dividing by 60\n",
    "200/60"
   ]
  },
  {
   "cell_type": "markdown",
   "id": "91a3cc3a",
   "metadata": {},
   "source": [
    "## Author:\n",
    "\n",
    "Andres Maica"
   ]
  }
 ],
 "metadata": {
  "kernelspec": {
   "display_name": "Python 3 (ipykernel)",
   "language": "python",
   "name": "python3"
  },
  "language_info": {
   "codemirror_mode": {
    "name": "ipython",
    "version": 3
   },
   "file_extension": ".py",
   "mimetype": "text/x-python",
   "name": "python",
   "nbconvert_exporter": "python",
   "pygments_lexer": "ipython3",
   "version": "3.11.7"
  }
 },
 "nbformat": 4,
 "nbformat_minor": 5
}
